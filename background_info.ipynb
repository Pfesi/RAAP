{
 "cells": [
  {
   "cell_type": "markdown",
   "metadata": {},
   "source": [
    "# RAAP Workshop\n",
    "\n",
    "# Single-dish calibration and continuum data processing.\n",
    "\n",
    "### Pfesi van Zyl (pvanzyl@sarao.ac.za)\n",
    "\n",
    "05 October 2025\n",
    "\n",
    "\n",
    "<!-- Last updated - 05/10/2025 -->"
   ]
  },
  {
   "cell_type": "markdown",
   "metadata": {},
   "source": [
    "# Objectives\n",
    "\n",
    "The objective of this notebook is to help you get familiar with [continuum](http://www.hartrao.ac.za/continuum/) \n",
    "data reductions. We have provided a step by step guide designed to show \n",
    "you how to extract data from [fits files](https://en.wikipedia.org/wiki/FITS) and calibrate the telescope to \n",
    "get target source flux density estimates for your single dish radio sources. \n",
    "\n",
    "\n",
    "At the end of this tutorial you should be able to \n",
    "\n",
    "\n",
    "- Understand what **calibration** is and why it is needed for reliable flux density measurements.  \n",
    "- Apply calibration to convert counts → **Jy**.  \n",
    "- Recognize and mitigate common issues (e.g. pointing offsets, baseline drifts, weather).  \n",
    "- Calculate the point source sensitivity (PSS)"
   ]
  },
  {
   "cell_type": "markdown",
   "metadata": {},
   "source": [
    "# Prerequisites\n",
    "\n",
    "In these tutorials we use [Python](https://docs.python.org/3/) as the main language for processing our data. Some previous experience with the Python language will be expected.\n",
    "\n",
    "\n"
   ]
  },
  {
   "cell_type": "markdown",
   "metadata": {},
   "source": [
    "---\n",
    "# Background\n",
    "---"
   ]
  },
  {
   "cell_type": "markdown",
   "metadata": {},
   "source": [
    "![drift img](images/overview.png)"
   ]
  },
  {
   "cell_type": "markdown",
   "metadata": {},
   "source": [
    "<!-- . -->"
   ]
  },
  {
   "cell_type": "markdown",
   "metadata": {},
   "source": [
    "- As the source moves across the sky, we collect the radiated energy using the driftscan technique\n",
    "\n",
    "- which gives us a cross section of the antenna beam pattern much like the one shown below\n",
    "\n",
    "\n",
    "![drift img](images/drift.png)"
   ]
  },
  {
   "cell_type": "markdown",
   "metadata": {},
   "source": [
    "<!-- . -->"
   ]
  },
  {
   "cell_type": "markdown",
   "metadata": {},
   "source": [
    "Drift scans can look ver different, depending on observing frequency.\n",
    "\n",
    "- Total power scans\n",
    "\n",
    "- Dicke switched scans\n",
    "\n",
    "![drift img](images/drift3.png)"
   ]
  },
  {
   "cell_type": "markdown",
   "metadata": {},
   "source": [
    "### ** calibration helps us  link between raw voltages and physical maser intensity"
   ]
  },
  {
   "cell_type": "markdown",
   "metadata": {},
   "source": [
    "“Every maser spectrum is only as good as its calibration.\n",
    "Without a stable flux scale, the physics — pumping models, variability trends, even maser beaming geometry — is guesswork.”"
   ]
  },
  {
   "cell_type": "markdown",
   "metadata": {},
   "source": [
    "<!-- #### Generated a long term light-curve of the source activity  -->"
   ]
  },
  {
   "cell_type": "markdown",
   "metadata": {},
   "source": [
    "<!--![variability img](images/img1.png)-->"
   ]
  },
  {
   "cell_type": "markdown",
   "metadata": {},
   "source": [
    "##  What we see when we look at extragalictic objects !\n",
    "\n"
   ]
  },
  {
   "cell_type": "markdown",
   "metadata": {},
   "source": [
    "\n",
    "\n",
    "When you observe a radio emitting source, what you actually measure is the signal strength over a defined band through a radiometer. This signal output \n",
    "from the radiometer is equivalent to the sum of the radio emission received from all externally contributing sources referred to as the system temperature ($T_{sys}$) in Kelvins given by\n",
    "\n",
    "$$T_{sys} = T_{Bcmb} + T_{A} + T_{at} + T_{wv} + T_{g} + T_{R} [K]$$\n",
    "\n",
    "where $T_{sys}$ is a combination of contributions from the:\n",
    "\n",
    "   * $T_{Bcmb}$ - cosmic microwave background\n",
    "   * $T_{A}$ - antenna temperature\n",
    "   * $T_{at}$ - dry atmosphere\n",
    "   * $T_{wv}$ - water vapour\n",
    "   * $T_{g}$ - ground, and \n",
    "   * $T_{R}$ - receiver noise.\n",
    "  \n",
    "The contribution from $T_A$ is not an actual representation of the physical temperature of the antenna. Instead it represents an increase in temperature (receiver output) measured when the antenna is pointed at a radio-emitting source.\n",
    "\n",
    "** What we want is flux density ($S$) in Jy. **\n",
    "\n",
    "The relation between the flux density $S$ of an unresolved source and the antenna temperature $T_A$ due to that source is given by \n",
    "\n",
    "$$ S = \\frac{2 k_{B}T_{A}}{A_{e}}$$\n",
    "\n",
    "where :\n",
    "\n",
    "   * $k_{B}$ is the Boltzmanns constant\n",
    "   * $A_{e}$ - telescope effective area\n",
    "   \n",
    "It is important to note that the flux density of a radio source is intrinsic to it, and the same flux density should \n",
    "be measured by any properly calibrated telescope. So rather than using units of effecive area we use a measure \n",
    "of the sensitivity of the telescope known as the Point Source Sensitivity ($PSS$) as a conversion factor. The PSS\n",
    "is the number of Kelvins of antenna temperature per polarisation, obtained per \n",
    "Jansky of source flux density\n",
    "\n",
    "$$ PSS = \\frac{S_{o}/2}{T_{A}} [Jy K^{-1} polarization^{-1}]$$\n",
    "\n",
    "We get the PSS from observations of a source with a well known flux density called a flux calibrator \n",
    "(i.e. a continuum point source characterised by having a non-variable flux density over long time-scales). \n",
    "\n",
    "\n"
   ]
  },
  {
   "cell_type": "markdown",
   "metadata": {},
   "source": [
    "### Tutorial:\n",
    "To start the tutorial click on the 12Ghz Hydra A link. \n",
    "\n",
    "* [Calibrator - 12Ghz Hydra A ](12GHz_HydraA_intro.ipynb)\n",
    "\n",
    "\n",
    "### Extra-work tutorials:\n",
    "* [Calibrator - 12Ghz Hydra A ](12GHz_HydraA_tutorial.ipynb)\n",
    "* [8.3Ghz Hydra A calibration](8GHz_HydraA_tutorial.ipynb)\n",
    "* [Calibrator - 5Ghz Hydra A ](5GHz_HydraA_tutorial.ipynb)\n",
    "* [2Ghz Hydra A calibration](2GHz_HydraA_tutorial.ipynb)"
   ]
  },
  {
   "cell_type": "code",
   "execution_count": null,
   "metadata": {},
   "outputs": [],
   "source": []
  }
 ],
 "metadata": {
  "kernelspec": {
   "display_name": "Python 3 (ipykernel)",
   "language": "python",
   "name": "python3"
  },
  "language_info": {
   "codemirror_mode": {
    "name": "ipython",
    "version": 3
   },
   "file_extension": ".py",
   "mimetype": "text/x-python",
   "name": "python",
   "nbconvert_exporter": "python",
   "pygments_lexer": "ipython3",
   "version": "3.11.5"
  }
 },
 "nbformat": 4,
 "nbformat_minor": 2
}
